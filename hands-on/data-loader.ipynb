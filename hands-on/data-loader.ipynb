{
 "cells": [
  {
   "cell_type": "code",
   "execution_count": 1,
   "metadata": {},
   "outputs": [],
   "source": [
    "import os\n",
    "import sys\n",
    "from pathlib import Path\n",
    "\n",
    "# VSCode에서만 사용 가능한 건지 확인 필요\n",
    "FILE = Path(__vsc_ipynb_file__).resolve()\n",
    "ROOT = FILE.parents[1]\n",
    "if str(ROOT) not in sys.path:\n",
    "    sys.path.append(str(ROOT))\n",
    "\n",
    "from utils.dataloaders import LoadImagesAndLabels, create_dataloader"
   ]
  },
  {
   "cell_type": "markdown",
   "metadata": {},
   "source": [
    "- image_weights가 어떤 기능을 제공하는지 구체적인 구현 내용 이해하고 정리하기\n",
    "- Dataset, Dataloader에서 coll_fn, sampler의 기능과 동작 방식 이해하기"
   ]
  },
  {
   "cell_type": "markdown",
   "metadata": {},
   "source": [
    "`utils/dataloaders.py`\n",
    "`create_dataloader()`\n",
    "\n",
    "```python\n",
    "batch_size: 배치 크기\n",
    "nd: CUDA 디바이스 개수(GPU 갯수)\n",
    "nw: 워커 스레드 개수 (사용자 설정 workers, batch_size, max_cpu // nd 중 작은 숫자)\n",
    "loader: image_weights가 참 이거나 close_mosaic이 참이면 DataLoader 아니면 InfiniteDataLoader\n",
    "```"
   ]
  },
  {
   "cell_type": "markdown",
   "metadata": {},
   "source": [
    "```python\n",
    "class LoadImagesAndLabels(Dataset):\n",
    "    def __init__(self):\n",
    "        pass\n",
    "```"
   ]
  },
  {
   "cell_type": "code",
   "execution_count": 2,
   "metadata": {},
   "outputs": [
    {
     "name": "stderr",
     "output_type": "stream",
     "text": [
      "Scanning /work/dataset/VP-SAR-v1.0.0.all/dataset_debug.cache... 131 images, 5 backgrounds, 0 corrupt: 100%|██████████| 131/131 00:00\n"
     ]
    }
   ],
   "source": [
    "params = {\n",
    "    'path': '/work/dataset/VP-SAR-v1.0.0.all/dataset_debug.txt',\n",
    "    'imgsz': 1280,\n",
    "    'batch_size': 1,\n",
    "    'stride': 1,\n",
    "    'single_cls': True,\n",
    "    'hyp': None,\n",
    "    'augment': False,\n",
    "    'cache': False,\n",
    "    'pad': 0.0,\n",
    "    'rect': False,\n",
    "    'rank': -1,\n",
    "    'workers': 8,\n",
    "    'image_weights': False,\n",
    "    'close_mosaic': False,\n",
    "    'quad': False,\n",
    "    'min_items': 0,\n",
    "    'prefix': '',\n",
    "    'shuffle': False\n",
    "}\n",
    "# print(**params)\n",
    "dataloader, dataset = create_dataloader(**params)"
   ]
  },
  {
   "cell_type": "code",
   "execution_count": 24,
   "metadata": {},
   "outputs": [
    {
     "name": "stdout",
     "output_type": "stream",
     "text": [
      "131\n"
     ]
    }
   ],
   "source": [
    "print(len(dataset.labels))\n",
    "# print(type(dataset.labels))\n",
    "# print(dataset.labels[0])\n",
    "nc = 2"
   ]
  },
  {
   "cell_type": "code",
   "execution_count": 25,
   "metadata": {},
   "outputs": [],
   "source": [
    "import numpy as np\n",
    "labels = np.concatenate(dataset.labels, 0)"
   ]
  },
  {
   "cell_type": "code",
   "execution_count": 26,
   "metadata": {},
   "outputs": [],
   "source": [
    "classes = labels[:, 0].astype(int)"
   ]
  },
  {
   "cell_type": "code",
   "execution_count": 27,
   "metadata": {},
   "outputs": [],
   "source": [
    "weights = np.bincount(classes, minlength=nc)"
   ]
  },
  {
   "cell_type": "code",
   "execution_count": 28,
   "metadata": {},
   "outputs": [
    {
     "data": {
      "text/plain": [
       "array([181,   0])"
      ]
     },
     "execution_count": 28,
     "metadata": {},
     "output_type": "execute_result"
    }
   ],
   "source": [
    "weights"
   ]
  },
  {
   "cell_type": "code",
   "execution_count": 29,
   "metadata": {},
   "outputs": [
    {
     "name": "stdout",
     "output_type": "stream",
     "text": [
      "[181   1]\n"
     ]
    }
   ],
   "source": [
    "weights[weights==0]=1\n",
    "print(weights)"
   ]
  },
  {
   "cell_type": "code",
   "execution_count": 30,
   "metadata": {},
   "outputs": [
    {
     "name": "stdout",
     "output_type": "stream",
     "text": [
      "[  0.0055249           1]\n"
     ]
    }
   ],
   "source": [
    "weights = 1 / weights\n",
    "print(weights)"
   ]
  },
  {
   "cell_type": "code",
   "execution_count": 32,
   "metadata": {},
   "outputs": [
    {
     "data": {
      "text/plain": [
       "0.9999999999999999"
      ]
     },
     "execution_count": 32,
     "metadata": {},
     "output_type": "execute_result"
    }
   ],
   "source": [
    "weights.sum()"
   ]
  },
  {
   "cell_type": "code",
   "execution_count": 31,
   "metadata": {},
   "outputs": [
    {
     "name": "stdout",
     "output_type": "stream",
     "text": [
      "[  0.0054945     0.99451]\n"
     ]
    }
   ],
   "source": [
    "weights /= weights.sum()\n",
    "print(weights)"
   ]
  },
  {
   "cell_type": "code",
   "execution_count": 19,
   "metadata": {},
   "outputs": [
    {
     "name": "stdout",
     "output_type": "stream",
     "text": [
      "[0 0 0 0 0 0 0 0 0 0 0 0 0 0 0 0 0 0 0 0 0 0 0 0 0 0 0 0 0 0 0 0 0 0 0 0 0 0 0 0 0 0 0 0 0 0 0 0 0 0 0 0 0 0 0 0 0 0 0 0 0 0 0 0 0 0 0 0 0 0 0 0 0 0 0 0 0 0 0 0 0 0 0 0 0 0 0 0 0 0 0 0 0 0 0 0 0 0 0 0 0 0 0 0 0 0 0 0 0 0 0 0 0 0 0 0 0 0 0 0 0 0 0 0 0 0 0 0 0 0 0 0 0 0 0 0 0 0 0 0 0 0 0 0 0 0 0 0 0 0 0 0 0 0 0 0 0 0 0\n",
      " 0 0 0 0 0 0 0 0 0 0 0 0 0 0 0 0 0 0 0 0 0 0]\n",
      "181\n"
     ]
    }
   ],
   "source": [
    "print(classes)\n",
    "print(len(classes))"
   ]
  },
  {
   "cell_type": "code",
   "execution_count": 21,
   "metadata": {},
   "outputs": [
    {
     "name": "stdout",
     "output_type": "stream",
     "text": [
      "(181, 5)\n",
      "181\n"
     ]
    }
   ],
   "source": [
    "print(labels.shape)\n",
    "print(len(labels))"
   ]
  },
  {
   "cell_type": "code",
   "execution_count": 6,
   "metadata": {},
   "outputs": [],
   "source": [
    "from utils.general import labels_to_class_weights, labels_to_image_weights"
   ]
  },
  {
   "cell_type": "code",
   "execution_count": 41,
   "metadata": {},
   "outputs": [],
   "source": [
    "# 데이터의 클래스에 라벨 빈도수가 높을 수록 가중치는 작아짐\n",
    "class_weights = labels_to_class_weights(dataset.labels, nc)"
   ]
  },
  {
   "cell_type": "code",
   "execution_count": 34,
   "metadata": {},
   "outputs": [
    {
     "name": "stdout",
     "output_type": "stream",
     "text": [
      "[          0]\n"
     ]
    }
   ],
   "source": [
    "for x in dataset.labels[:1]:\n",
    "    print(x[:, 0])"
   ]
  },
  {
   "cell_type": "code",
   "execution_count": 43,
   "metadata": {},
   "outputs": [
    {
     "name": "stdout",
     "output_type": "stream",
     "text": [
      "[          0           0]\n"
     ]
    }
   ],
   "source": [
    "maps = np.zeros(nc)\n",
    "print(maps)"
   ]
  },
  {
   "cell_type": "code",
   "execution_count": 45,
   "metadata": {},
   "outputs": [
    {
     "name": "stdout",
     "output_type": "stream",
     "text": [
      "[  0.0027473     0.49725]\n"
     ]
    }
   ],
   "source": [
    "cw = class_weights.cpu().numpy() * (1 - maps) ** 2 / nc\n",
    "print(cw)"
   ]
  },
  {
   "cell_type": "code",
   "execution_count": 42,
   "metadata": {},
   "outputs": [
    {
     "name": "stdout",
     "output_type": "stream",
     "text": [
      "<class 'numpy.ndarray'>\n",
      "(131, 2)\n",
      "torch.Size([2])\n",
      "tensor([0.00549, 0.99451])\n"
     ]
    }
   ],
   "source": [
    "# 각 이미지에 클래스 별 객체 빈도수 계산\n",
    "class_counts = np.array([np.bincount(x[:, 0].astype(int), minlength=nc) for x in dataset.labels])\n",
    "print(type(class_counts))\n",
    "print(class_counts.shape)\n",
    "print(class_weights.shape)\n",
    "print(class_weights)"
   ]
  },
  {
   "cell_type": "markdown",
   "metadata": {},
   "source": [
    "https://docs.python.org/3/library/random.html#random.choices\n",
    "\n",
    "`random.choices(population, weights=None, *, cum_weights=None, k=1)`"
   ]
  }
 ],
 "metadata": {
  "kernelspec": {
   "display_name": "Python 3",
   "language": "python",
   "name": "python3"
  },
  "language_info": {
   "codemirror_mode": {
    "name": "ipython",
    "version": 3
   },
   "file_extension": ".py",
   "mimetype": "text/x-python",
   "name": "python",
   "nbconvert_exporter": "python",
   "pygments_lexer": "ipython3",
   "version": "3.8.19"
  }
 },
 "nbformat": 4,
 "nbformat_minor": 2
}
