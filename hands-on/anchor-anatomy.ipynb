{
 "cells": [
  {
   "cell_type": "code",
   "execution_count": 2,
   "metadata": {},
   "outputs": [],
   "source": [
    "import sys\n",
    "from pathlib import Path\n",
    "\n",
    "# VSCode에서만 사용 가능한 건지 확인 필요\n",
    "FILE = Path(__vsc_ipynb_file__).resolve()\n",
    "ROOT = FILE.parents[1]\n",
    "if str(ROOT) not in sys.path:\n",
    "    sys.path.append(str(ROOT))\n",
    "    \n",
    "import torch\n"
   ]
  },
  {
   "cell_type": "code",
   "execution_count": 3,
   "metadata": {},
   "outputs": [],
   "source": [
    "from utils.tal.anchor_generator import make_anchors, dist2bbox, bbox2dist"
   ]
  },
  {
   "cell_type": "code",
   "execution_count": 7,
   "metadata": {},
   "outputs": [
    {
     "data": {
      "text/plain": [
       "tensor([[[[ 1.07694, -0.65539, -1.86710,  0.23305],\n",
       "          [-0.26468,  0.22513,  0.24349, -0.69900],\n",
       "          [-1.55059,  0.26184,  1.37744, -1.62508]],\n",
       "\n",
       "         [[ 1.14924,  0.44390,  0.02803, -2.12241],\n",
       "          [ 0.40042, -0.29661,  1.64121,  1.56942],\n",
       "          [ 0.01325,  0.67009, -0.32774, -0.24635]]]])"
      ]
     },
     "execution_count": 7,
     "metadata": {},
     "output_type": "execute_result"
    }
   ],
   "source": [
    "torch.randn(1, 2, 3, 4)"
   ]
  },
  {
   "cell_type": "code",
   "execution_count": 4,
   "metadata": {},
   "outputs": [
    {
     "name": "stdout",
     "output_type": "stream",
     "text": [
      "Anchor Points: tensor([[ 0.50000,  0.50000],\n",
      "        [ 1.50000,  0.50000],\n",
      "        [ 2.50000,  0.50000],\n",
      "        ...,\n",
      "        [17.50000, 19.50000],\n",
      "        [18.50000, 19.50000],\n",
      "        [19.50000, 19.50000]])\n",
      "Stride Tensor: tensor([[ 8.],\n",
      "        [ 8.],\n",
      "        [ 8.],\n",
      "        ...,\n",
      "        [32.],\n",
      "        [32.],\n",
      "        [32.]])\n",
      "Number of Anchor Points: torch.Size([8400, 2])\n",
      "Number of Stride Tensor Elements: torch.Size([8400, 1])\n"
     ]
    }
   ],
   "source": [
    "input_size = 640\n",
    "\n",
    "strides = [8, 16, 32]\n",
    "\n",
    "feats = [\n",
    "    torch.randn(1, 256, input_size // strides[0], input_size // strides[0]),\n",
    "    torch.randn(1, 256, input_size // strides[1], input_size // strides[1]),\n",
    "    torch.randn(1, 256, input_size // strides[2], input_size // strides[2])\n",
    "]\n",
    "\n",
    "anchor_points, stride_tensor = make_anchors(feats, strides)\n",
    "\n",
    "print('Anchor Points:', anchor_points)\n",
    "print('Stride Tensor:', stride_tensor)\n",
    "print('Number of Anchor Points:', anchor_points.shape)\n",
    "print('Number of Stride Tensor Elements:', stride_tensor.shape)"
   ]
  },
  {
   "cell_type": "markdown",
   "metadata": {},
   "source": [
    "```python\n",
    "def make_anchors(feats, strides, grid_cell_offset=0.5):\n",
    "    \"\"\"Generate anchors from features.\"\"\"\n",
    "    anchor_points, stride_tensor = [], []\n",
    "    assert feats is not None\n",
    "    dtype, device = feats[0].dtype, feats[0].device\n",
    "    for i, stride in enumerate(strides):\n",
    "        _, _, h, w = feats[i].shape\n",
    "        sx = torch.arange(end=w, device=device, dtype=dtype) + grid_cell_offset  # shift x\n",
    "        sy = torch.arange(end=h, device=device, dtype=dtype) + grid_cell_offset  # shift y\n",
    "        sy, sx = torch.meshgrid(sy, sx, indexing='ij') if TORCH_1_10 else torch.meshgrid(sy, sx)\n",
    "        anchor_points.append(torch.stack((sx, sy), -1).view(-1, 2))\n",
    "        stride_tensor.append(torch.full((h * w, 1), stride, dtype=dtype, device=device))\n",
    "    return torch.cat(anchor_points), torch.cat(stride_tensor)\n",
    "```"
   ]
  },
  {
   "cell_type": "code",
   "execution_count": 10,
   "metadata": {},
   "outputs": [
    {
     "data": {
      "text/plain": [
       "(tensor([[0.50000, 0.50000, 0.50000, 0.50000],\n",
       "         [1.50000, 1.50000, 1.50000, 1.50000],\n",
       "         [2.50000, 2.50000, 2.50000, 2.50000],\n",
       "         [3.50000, 3.50000, 3.50000, 3.50000]]),\n",
       " tensor([[0.50000, 1.50000, 2.50000, 3.50000],\n",
       "         [0.50000, 1.50000, 2.50000, 3.50000],\n",
       "         [0.50000, 1.50000, 2.50000, 3.50000],\n",
       "         [0.50000, 1.50000, 2.50000, 3.50000]]))"
      ]
     },
     "execution_count": 10,
     "metadata": {},
     "output_type": "execute_result"
    }
   ],
   "source": [
    "w = 4\n",
    "h = 4\n",
    "sx = torch.arange(end=w) + 0.5\n",
    "sy = torch.arange(end=h) + 0.5\n",
    "torch.meshgrid(sy, sx, indexing='ij')"
   ]
  }
 ],
 "metadata": {
  "kernelspec": {
   "display_name": "Python 3",
   "language": "python",
   "name": "python3"
  },
  "language_info": {
   "codemirror_mode": {
    "name": "ipython",
    "version": 3
   },
   "file_extension": ".py",
   "mimetype": "text/x-python",
   "name": "python",
   "nbconvert_exporter": "python",
   "pygments_lexer": "ipython3",
   "version": "3.8.19"
  }
 },
 "nbformat": 4,
 "nbformat_minor": 2
}
